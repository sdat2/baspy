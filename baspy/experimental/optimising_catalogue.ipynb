{
 "cells": [
  {
   "cell_type": "markdown",
   "metadata": {},
   "source": [
    "# Do we gain anything by specifying the dtypes when reading the catalogues using Pandas?"
   ]
  },
  {
   "cell_type": "code",
   "execution_count": 1,
   "metadata": {},
   "outputs": [],
   "source": [
    "import pandas as pd"
   ]
  },
  {
   "cell_type": "code",
   "execution_count": 2,
   "metadata": {},
   "outputs": [],
   "source": [
    "# use category when we have lots of repeats, and int32 rather than default int64\n",
    "dtypes = {\"Experiment\":\"category\", \"Var\":\"category\", \"Model\":\"category\", \"CMOR\":\"category\", \n",
    "          \"RunID\":\"category\", \"Centre\":\"category\", \"Frequency\":\"category\", \n",
    "          \"SubModel\":\"category\", \"Version\":\"category\", \"StartDate\":\"int32\", \"EndDate\":\"int32\"}"
   ]
  },
  {
   "cell_type": "markdown",
   "metadata": {},
   "source": [
    "# Read files"
   ]
  },
  {
   "cell_type": "code",
   "execution_count": 3,
   "metadata": {},
   "outputs": [],
   "source": [
    "df        = pd.read_csv('~/.baspy/cmip5_catalogue.csv')\n",
    "df_dtypes = pd.read_csv('~/.baspy/cmip5_catalogue.csv', dtype=dtypes)"
   ]
  },
  {
   "cell_type": "code",
   "execution_count": 4,
   "metadata": {},
   "outputs": [
    {
     "data": {
      "text/plain": [
       "Centre        object\n",
       "Model         object\n",
       "Experiment    object\n",
       "Frequency     object\n",
       "SubModel      object\n",
       "CMOR          object\n",
       "RunID         object\n",
       "Version       object\n",
       "Var           object\n",
       "StartDate      int64\n",
       "EndDate        int64\n",
       "Path          object\n",
       "DataFiles     object\n",
       "dtype: object"
      ]
     },
     "execution_count": 4,
     "metadata": {},
     "output_type": "execute_result"
    }
   ],
   "source": [
    "df.dtypes"
   ]
  },
  {
   "cell_type": "code",
   "execution_count": 5,
   "metadata": {},
   "outputs": [
    {
     "data": {
      "text/plain": [
       "Centre        category\n",
       "Model         category\n",
       "Experiment    category\n",
       "Frequency     category\n",
       "SubModel      category\n",
       "CMOR          category\n",
       "RunID         category\n",
       "Version       category\n",
       "Var           category\n",
       "StartDate        int32\n",
       "EndDate          int32\n",
       "Path            object\n",
       "DataFiles       object\n",
       "dtype: object"
      ]
     },
     "execution_count": 5,
     "metadata": {},
     "output_type": "execute_result"
    }
   ],
   "source": [
    "df_dtypes.dtypes"
   ]
  },
  {
   "cell_type": "markdown",
   "metadata": {},
   "source": [
    "## Time to read file\n",
    "we do not see a slow down when specifying dtypes"
   ]
  },
  {
   "cell_type": "code",
   "execution_count": 6,
   "metadata": {},
   "outputs": [
    {
     "name": "stdout",
     "output_type": "stream",
     "text": [
      "4.53 s ± 145 ms per loop (mean ± std. dev. of 7 runs, 1 loop each)\n"
     ]
    }
   ],
   "source": [
    "%timeit df = pd.read_csv('~/.baspy/cmip5_catalogue.csv')"
   ]
  },
  {
   "cell_type": "code",
   "execution_count": 7,
   "metadata": {},
   "outputs": [
    {
     "name": "stdout",
     "output_type": "stream",
     "text": [
      "4.57 s ± 20 ms per loop (mean ± std. dev. of 7 runs, 1 loop each)\n"
     ]
    }
   ],
   "source": [
    "%timeit df_dtypes = pd.read_csv('~/.baspy/cmip5_catalogue.csv', dtype=dtypes)"
   ]
  },
  {
   "cell_type": "markdown",
   "metadata": {},
   "source": [
    "## Compare memory usage\n",
    "We can reduce the total memory footprint to around a third (80MB -->28MB)"
   ]
  },
  {
   "cell_type": "code",
   "execution_count": 8,
   "metadata": {},
   "outputs": [
    {
     "data": {
      "text/plain": [
       "Index              80\n",
       "Centre        6215800\n",
       "Model         6215800\n",
       "Experiment    6215800\n",
       "Frequency     6215800\n",
       "SubModel      6215800\n",
       "CMOR          6215800\n",
       "RunID         6215800\n",
       "Version       6215800\n",
       "Var           6215800\n",
       "StartDate     6215800\n",
       "EndDate       6215800\n",
       "Path          6215800\n",
       "DataFiles     6215800\n",
       "dtype: int64"
      ]
     },
     "execution_count": 8,
     "metadata": {},
     "output_type": "execute_result"
    }
   ],
   "source": [
    "df.memory_usage()"
   ]
  },
  {
   "cell_type": "code",
   "execution_count": 9,
   "metadata": {},
   "outputs": [
    {
     "data": {
      "text/plain": [
       "Index              80\n",
       "Centre         778471\n",
       "Model          780015\n",
       "Experiment     782903\n",
       "Frequency      777359\n",
       "SubModel       777351\n",
       "CMOR           777759\n",
       "RunID         1566006\n",
       "Version       1579070\n",
       "Var           1579294\n",
       "StartDate     3107900\n",
       "EndDate       3107900\n",
       "Path          6215800\n",
       "DataFiles     6215800\n",
       "dtype: int64"
      ]
     },
     "execution_count": 9,
     "metadata": {},
     "output_type": "execute_result"
    }
   ],
   "source": [
    "df_dtypes.memory_usage()"
   ]
  },
  {
   "cell_type": "code",
   "execution_count": 10,
   "metadata": {},
   "outputs": [
    {
     "data": {
      "text/plain": [
       "80.80548"
      ]
     },
     "execution_count": 10,
     "metadata": {},
     "output_type": "execute_result"
    }
   ],
   "source": [
    "df.memory_usage().sum() * 0.000001 # convert bytes to MBs"
   ]
  },
  {
   "cell_type": "code",
   "execution_count": 11,
   "metadata": {},
   "outputs": [
    {
     "data": {
      "text/plain": [
       "28.045707999999998"
      ]
     },
     "execution_count": 11,
     "metadata": {},
     "output_type": "execute_result"
    }
   ],
   "source": [
    "df_dtypes.memory_usage().sum() * 0.000001"
   ]
  }
 ],
 "metadata": {
  "kernelspec": {
   "display_name": "Python 3",
   "language": "python",
   "name": "python3"
  },
  "language_info": {
   "codemirror_mode": {
    "name": "ipython",
    "version": 3
   },
   "file_extension": ".py",
   "mimetype": "text/x-python",
   "name": "python",
   "nbconvert_exporter": "python",
   "pygments_lexer": "ipython3",
   "version": "3.6.8"
  }
 },
 "nbformat": 4,
 "nbformat_minor": 2
}
