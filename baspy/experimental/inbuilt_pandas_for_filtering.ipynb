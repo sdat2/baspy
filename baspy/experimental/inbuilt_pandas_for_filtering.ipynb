{
 "cells": [
  {
   "cell_type": "markdown",
   "metadata": {},
   "source": [
    "# Use inbuilt Pandas tools for filtering the DataFrame catalogue\n",
    "- rather than the loops etc"
   ]
  },
  {
   "cell_type": "code",
   "execution_count": 1,
   "metadata": {},
   "outputs": [],
   "source": [
    "import baspy as bp\n",
    "import pandas as pd"
   ]
  },
  {
   "cell_type": "code",
   "execution_count": 2,
   "metadata": {},
   "outputs": [
    {
     "name": "stdout",
     "output_type": "stream",
     "text": [
      "Updating cached catalogue...\n",
      ">> Current cached values (can be extended by specifying additional values or by setting read_everything=True) <<\n",
      "{'Experiment': ['rcp26', 'piControl', 'rcp85', 'historical', 'rcp45'], 'Frequency': ['mon']}\n",
      "\n",
      "No user values defined, will therefore filter catalogue using default values\n"
     ]
    }
   ],
   "source": [
    "catlg = bp.catalogue(dataset='cmip5')"
   ]
  },
  {
   "cell_type": "code",
   "execution_count": 61,
   "metadata": {},
   "outputs": [],
   "source": [
    "# create a unique identifier for each model-run-version\n",
    "catlg['Model-RunID-Version'] = catlg['Model'] +'-'+ catlg['RunID'] +'-'+ catlg['Version']"
   ]
  },
  {
   "cell_type": "code",
   "execution_count": 62,
   "metadata": {},
   "outputs": [],
   "source": [
    "# this is the dictionary we want to use to filt our original catalogue\n",
    "filt_dict = {'Var':['bmelt','evap'], 'Experiment':['rcp26']}"
   ]
  },
  {
   "cell_type": "code",
   "execution_count": 63,
   "metadata": {},
   "outputs": [],
   "source": [
    "nkeys = len(filt_dict.keys())\n",
    "nVars = len(filt_dict['Var'])"
   ]
  },
  {
   "cell_type": "code",
   "execution_count": 64,
   "metadata": {},
   "outputs": [
    {
     "data": {
      "text/html": [
       "<div>\n",
       "<style scoped>\n",
       "    .dataframe tbody tr th:only-of-type {\n",
       "        vertical-align: middle;\n",
       "    }\n",
       "\n",
       "    .dataframe tbody tr th {\n",
       "        vertical-align: top;\n",
       "    }\n",
       "\n",
       "    .dataframe thead th {\n",
       "        text-align: right;\n",
       "    }\n",
       "</style>\n",
       "<table border=\"1\" class=\"dataframe\">\n",
       "  <thead>\n",
       "    <tr style=\"text-align: right;\">\n",
       "      <th></th>\n",
       "      <th>Centre</th>\n",
       "      <th>Model</th>\n",
       "      <th>Experiment</th>\n",
       "      <th>Frequency</th>\n",
       "      <th>SubModel</th>\n",
       "      <th>CMOR</th>\n",
       "      <th>RunID</th>\n",
       "      <th>Version</th>\n",
       "      <th>Var</th>\n",
       "      <th>StartDate</th>\n",
       "      <th>EndDate</th>\n",
       "      <th>Path</th>\n",
       "      <th>DataFiles</th>\n",
       "      <th>dataset</th>\n",
       "      <th>Model-RunID-Version</th>\n",
       "    </tr>\n",
       "  </thead>\n",
       "  <tbody>\n",
       "    <tr>\n",
       "      <th>248</th>\n",
       "      <td>BCC</td>\n",
       "      <td>bcc-csm1-1-m</td>\n",
       "      <td>rcp26</td>\n",
       "      <td>mon</td>\n",
       "      <td>seaIce</td>\n",
       "      <td>OImon</td>\n",
       "      <td>r1i1p1</td>\n",
       "      <td>v20120910</td>\n",
       "      <td>bmelt</td>\n",
       "      <td>200601</td>\n",
       "      <td>210012</td>\n",
       "      <td>/BCC/bcc-csm1-1-m/rcp26/mon/seaIce/OImon/r1i1p...</td>\n",
       "      <td>bmelt_OImon_bcc-csm1-1-m_rcp26_r1i1p1_200601-2...</td>\n",
       "      <td>cmip5</td>\n",
       "      <td>bcc-csm1-1-m-r1i1p1-v20120910</td>\n",
       "    </tr>\n",
       "    <tr>\n",
       "      <th>249</th>\n",
       "      <td>BCC</td>\n",
       "      <td>bcc-csm1-1-m</td>\n",
       "      <td>rcp26</td>\n",
       "      <td>mon</td>\n",
       "      <td>seaIce</td>\n",
       "      <td>OImon</td>\n",
       "      <td>r1i1p1</td>\n",
       "      <td>v20120910</td>\n",
       "      <td>evap</td>\n",
       "      <td>200601</td>\n",
       "      <td>210012</td>\n",
       "      <td>/BCC/bcc-csm1-1-m/rcp26/mon/seaIce/OImon/r1i1p...</td>\n",
       "      <td>evap_OImon_bcc-csm1-1-m_rcp26_r1i1p1_200601-21...</td>\n",
       "      <td>cmip5</td>\n",
       "      <td>bcc-csm1-1-m-r1i1p1-v20120910</td>\n",
       "    </tr>\n",
       "    <tr>\n",
       "      <th>250</th>\n",
       "      <td>BCC</td>\n",
       "      <td>bcc-csm1-1-m</td>\n",
       "      <td>rcp26</td>\n",
       "      <td>mon</td>\n",
       "      <td>seaIce</td>\n",
       "      <td>OImon</td>\n",
       "      <td>r1i1p1</td>\n",
       "      <td>v20120910</td>\n",
       "      <td>ialb</td>\n",
       "      <td>200601</td>\n",
       "      <td>210012</td>\n",
       "      <td>/BCC/bcc-csm1-1-m/rcp26/mon/seaIce/OImon/r1i1p...</td>\n",
       "      <td>ialb_OImon_bcc-csm1-1-m_rcp26_r1i1p1_200601-21...</td>\n",
       "      <td>cmip5</td>\n",
       "      <td>bcc-csm1-1-m-r1i1p1-v20120910</td>\n",
       "    </tr>\n",
       "  </tbody>\n",
       "</table>\n",
       "</div>"
      ],
      "text/plain": [
       "    Centre         Model Experiment Frequency SubModel   CMOR   RunID  \\\n",
       "248    BCC  bcc-csm1-1-m      rcp26       mon   seaIce  OImon  r1i1p1   \n",
       "249    BCC  bcc-csm1-1-m      rcp26       mon   seaIce  OImon  r1i1p1   \n",
       "250    BCC  bcc-csm1-1-m      rcp26       mon   seaIce  OImon  r1i1p1   \n",
       "\n",
       "       Version    Var  StartDate  EndDate  \\\n",
       "248  v20120910  bmelt     200601   210012   \n",
       "249  v20120910   evap     200601   210012   \n",
       "250  v20120910   ialb     200601   210012   \n",
       "\n",
       "                                                  Path  \\\n",
       "248  /BCC/bcc-csm1-1-m/rcp26/mon/seaIce/OImon/r1i1p...   \n",
       "249  /BCC/bcc-csm1-1-m/rcp26/mon/seaIce/OImon/r1i1p...   \n",
       "250  /BCC/bcc-csm1-1-m/rcp26/mon/seaIce/OImon/r1i1p...   \n",
       "\n",
       "                                             DataFiles dataset  \\\n",
       "248  bmelt_OImon_bcc-csm1-1-m_rcp26_r1i1p1_200601-2...   cmip5   \n",
       "249  evap_OImon_bcc-csm1-1-m_rcp26_r1i1p1_200601-21...   cmip5   \n",
       "250  ialb_OImon_bcc-csm1-1-m_rcp26_r1i1p1_200601-21...   cmip5   \n",
       "\n",
       "               Model-RunID-Version  \n",
       "248  bcc-csm1-1-m-r1i1p1-v20120910  \n",
       "249  bcc-csm1-1-m-r1i1p1-v20120910  \n",
       "250  bcc-csm1-1-m-r1i1p1-v20120910  "
      ]
     },
     "execution_count": 64,
     "metadata": {},
     "output_type": "execute_result"
    }
   ],
   "source": [
    "catlg.iloc[0:3]"
   ]
  },
  {
   "cell_type": "code",
   "execution_count": 65,
   "metadata": {},
   "outputs": [
    {
     "data": {
      "text/html": [
       "<div>\n",
       "<style scoped>\n",
       "    .dataframe tbody tr th:only-of-type {\n",
       "        vertical-align: middle;\n",
       "    }\n",
       "\n",
       "    .dataframe tbody tr th {\n",
       "        vertical-align: top;\n",
       "    }\n",
       "\n",
       "    .dataframe thead th {\n",
       "        text-align: right;\n",
       "    }\n",
       "</style>\n",
       "<table border=\"1\" class=\"dataframe\">\n",
       "  <thead>\n",
       "    <tr style=\"text-align: right;\">\n",
       "      <th></th>\n",
       "      <th>Centre</th>\n",
       "      <th>Model</th>\n",
       "      <th>Experiment</th>\n",
       "      <th>Frequency</th>\n",
       "      <th>SubModel</th>\n",
       "      <th>CMOR</th>\n",
       "      <th>RunID</th>\n",
       "      <th>Version</th>\n",
       "      <th>Var</th>\n",
       "      <th>StartDate</th>\n",
       "      <th>EndDate</th>\n",
       "      <th>Path</th>\n",
       "      <th>DataFiles</th>\n",
       "      <th>dataset</th>\n",
       "      <th>Model-RunID-Version</th>\n",
       "    </tr>\n",
       "  </thead>\n",
       "  <tbody>\n",
       "    <tr>\n",
       "      <th>248</th>\n",
       "      <td>False</td>\n",
       "      <td>False</td>\n",
       "      <td>True</td>\n",
       "      <td>False</td>\n",
       "      <td>False</td>\n",
       "      <td>False</td>\n",
       "      <td>False</td>\n",
       "      <td>False</td>\n",
       "      <td>True</td>\n",
       "      <td>False</td>\n",
       "      <td>False</td>\n",
       "      <td>False</td>\n",
       "      <td>False</td>\n",
       "      <td>False</td>\n",
       "      <td>False</td>\n",
       "    </tr>\n",
       "    <tr>\n",
       "      <th>249</th>\n",
       "      <td>False</td>\n",
       "      <td>False</td>\n",
       "      <td>True</td>\n",
       "      <td>False</td>\n",
       "      <td>False</td>\n",
       "      <td>False</td>\n",
       "      <td>False</td>\n",
       "      <td>False</td>\n",
       "      <td>True</td>\n",
       "      <td>False</td>\n",
       "      <td>False</td>\n",
       "      <td>False</td>\n",
       "      <td>False</td>\n",
       "      <td>False</td>\n",
       "      <td>False</td>\n",
       "    </tr>\n",
       "    <tr>\n",
       "      <th>250</th>\n",
       "      <td>False</td>\n",
       "      <td>False</td>\n",
       "      <td>True</td>\n",
       "      <td>False</td>\n",
       "      <td>False</td>\n",
       "      <td>False</td>\n",
       "      <td>False</td>\n",
       "      <td>False</td>\n",
       "      <td>False</td>\n",
       "      <td>False</td>\n",
       "      <td>False</td>\n",
       "      <td>False</td>\n",
       "      <td>False</td>\n",
       "      <td>False</td>\n",
       "      <td>False</td>\n",
       "    </tr>\n",
       "  </tbody>\n",
       "</table>\n",
       "</div>"
      ],
      "text/plain": [
       "     Centre  Model  Experiment  Frequency  SubModel   CMOR  RunID  Version  \\\n",
       "248   False  False        True      False     False  False  False    False   \n",
       "249   False  False        True      False     False  False  False    False   \n",
       "250   False  False        True      False     False  False  False    False   \n",
       "\n",
       "       Var  StartDate  EndDate   Path  DataFiles  dataset  Model-RunID-Version  \n",
       "248   True      False    False  False      False    False                False  \n",
       "249   True      False    False  False      False    False                False  \n",
       "250  False      False    False  False      False    False                False  "
      ]
     },
     "execution_count": 65,
     "metadata": {},
     "output_type": "execute_result"
    }
   ],
   "source": [
    "# Using isin to find all elements that are True - we want those rows where ALL the dict_keys are True\n",
    "catlg.isin(filt_dict).iloc[0:3]"
   ]
  },
  {
   "cell_type": "code",
   "execution_count": 81,
   "metadata": {},
   "outputs": [
    {
     "data": {
      "text/html": [
       "<div>\n",
       "<style scoped>\n",
       "    .dataframe tbody tr th:only-of-type {\n",
       "        vertical-align: middle;\n",
       "    }\n",
       "\n",
       "    .dataframe tbody tr th {\n",
       "        vertical-align: top;\n",
       "    }\n",
       "\n",
       "    .dataframe thead th {\n",
       "        text-align: right;\n",
       "    }\n",
       "</style>\n",
       "<table border=\"1\" class=\"dataframe\">\n",
       "  <thead>\n",
       "    <tr style=\"text-align: right;\">\n",
       "      <th></th>\n",
       "      <th>Centre</th>\n",
       "      <th>Model</th>\n",
       "      <th>Experiment</th>\n",
       "      <th>Frequency</th>\n",
       "      <th>SubModel</th>\n",
       "      <th>CMOR</th>\n",
       "      <th>RunID</th>\n",
       "      <th>Version</th>\n",
       "      <th>Var</th>\n",
       "      <th>StartDate</th>\n",
       "      <th>EndDate</th>\n",
       "      <th>Path</th>\n",
       "      <th>DataFiles</th>\n",
       "      <th>dataset</th>\n",
       "      <th>Model-RunID-Version</th>\n",
       "    </tr>\n",
       "  </thead>\n",
       "  <tbody>\n",
       "    <tr>\n",
       "      <th>248</th>\n",
       "      <td>BCC</td>\n",
       "      <td>bcc-csm1-1-m</td>\n",
       "      <td>rcp26</td>\n",
       "      <td>mon</td>\n",
       "      <td>seaIce</td>\n",
       "      <td>OImon</td>\n",
       "      <td>r1i1p1</td>\n",
       "      <td>v20120910</td>\n",
       "      <td>bmelt</td>\n",
       "      <td>200601</td>\n",
       "      <td>210012</td>\n",
       "      <td>/BCC/bcc-csm1-1-m/rcp26/mon/seaIce/OImon/r1i1p...</td>\n",
       "      <td>bmelt_OImon_bcc-csm1-1-m_rcp26_r1i1p1_200601-2...</td>\n",
       "      <td>cmip5</td>\n",
       "      <td>bcc-csm1-1-m-r1i1p1-v20120910</td>\n",
       "    </tr>\n",
       "    <tr>\n",
       "      <th>249</th>\n",
       "      <td>BCC</td>\n",
       "      <td>bcc-csm1-1-m</td>\n",
       "      <td>rcp26</td>\n",
       "      <td>mon</td>\n",
       "      <td>seaIce</td>\n",
       "      <td>OImon</td>\n",
       "      <td>r1i1p1</td>\n",
       "      <td>v20120910</td>\n",
       "      <td>evap</td>\n",
       "      <td>200601</td>\n",
       "      <td>210012</td>\n",
       "      <td>/BCC/bcc-csm1-1-m/rcp26/mon/seaIce/OImon/r1i1p...</td>\n",
       "      <td>evap_OImon_bcc-csm1-1-m_rcp26_r1i1p1_200601-21...</td>\n",
       "      <td>cmip5</td>\n",
       "      <td>bcc-csm1-1-m-r1i1p1-v20120910</td>\n",
       "    </tr>\n",
       "    <tr>\n",
       "      <th>28823</th>\n",
       "      <td>BCC</td>\n",
       "      <td>bcc-csm1-1</td>\n",
       "      <td>rcp26</td>\n",
       "      <td>mon</td>\n",
       "      <td>seaIce</td>\n",
       "      <td>OImon</td>\n",
       "      <td>r1i1p1</td>\n",
       "      <td>v20120705</td>\n",
       "      <td>bmelt</td>\n",
       "      <td>200601</td>\n",
       "      <td>230012</td>\n",
       "      <td>/BCC/bcc-csm1-1/rcp26/mon/seaIce/OImon/r1i1p1/...</td>\n",
       "      <td>bmelt_OImon_bcc-csm1-1_rcp26_r1i1p1_200601-209...</td>\n",
       "      <td>cmip5</td>\n",
       "      <td>bcc-csm1-1-r1i1p1-v20120705</td>\n",
       "    </tr>\n",
       "  </tbody>\n",
       "</table>\n",
       "</div>"
      ],
      "text/plain": [
       "      Centre         Model Experiment Frequency SubModel   CMOR   RunID  \\\n",
       "248      BCC  bcc-csm1-1-m      rcp26       mon   seaIce  OImon  r1i1p1   \n",
       "249      BCC  bcc-csm1-1-m      rcp26       mon   seaIce  OImon  r1i1p1   \n",
       "28823    BCC    bcc-csm1-1      rcp26       mon   seaIce  OImon  r1i1p1   \n",
       "\n",
       "         Version    Var  StartDate  EndDate  \\\n",
       "248    v20120910  bmelt     200601   210012   \n",
       "249    v20120910   evap     200601   210012   \n",
       "28823  v20120705  bmelt     200601   230012   \n",
       "\n",
       "                                                    Path  \\\n",
       "248    /BCC/bcc-csm1-1-m/rcp26/mon/seaIce/OImon/r1i1p...   \n",
       "249    /BCC/bcc-csm1-1-m/rcp26/mon/seaIce/OImon/r1i1p...   \n",
       "28823  /BCC/bcc-csm1-1/rcp26/mon/seaIce/OImon/r1i1p1/...   \n",
       "\n",
       "                                               DataFiles dataset  \\\n",
       "248    bmelt_OImon_bcc-csm1-1-m_rcp26_r1i1p1_200601-2...   cmip5   \n",
       "249    evap_OImon_bcc-csm1-1-m_rcp26_r1i1p1_200601-21...   cmip5   \n",
       "28823  bmelt_OImon_bcc-csm1-1_rcp26_r1i1p1_200601-209...   cmip5   \n",
       "\n",
       "                 Model-RunID-Version  \n",
       "248    bcc-csm1-1-m-r1i1p1-v20120910  \n",
       "249    bcc-csm1-1-m-r1i1p1-v20120910  \n",
       "28823    bcc-csm1-1-r1i1p1-v20120705  "
      ]
     },
     "execution_count": 81,
     "metadata": {},
     "output_type": "execute_result"
    }
   ],
   "source": [
    "a = catlg.isin(filt_dict)\n",
    "my_catlg = catlg[ (a.sum(axis=1) == nkeys) ]\n",
    "my_catlg.iloc[0:3]"
   ]
  },
  {
   "cell_type": "markdown",
   "metadata": {},
   "source": [
    "# Ensure we have a complete set of variables for each Model-Run-Version\n",
    "- if number Vars > 1"
   ]
  },
  {
   "cell_type": "code",
   "execution_count": 67,
   "metadata": {},
   "outputs": [
    {
     "data": {
      "text/plain": [
       "Model-RunID-Version\n",
       "BNU-ESM-r1i1p1-v20120503           2\n",
       "CCSM4-r1i1p1-v20121031             2\n",
       "CCSM4-r2i1p1-v20120411             2\n",
       "CCSM4-r3i1p1-v20120411             2\n",
       "CCSM4-r4i1p1-v20120411             2\n",
       "CCSM4-r5i1p1-v20120411             2\n",
       "CCSM4-r6i1p1-v20120411             2\n",
       "CESM1-CAM5-r1i1p1-v20130302        2\n",
       "CESM1-CAM5-r2i1p1-v20130302        2\n",
       "CESM1-CAM5-r3i1p1-v20130302        2\n",
       "CESM1-WACCM-r2i1p1-v20130314       2\n",
       "CESM1-WACCM-r3i1p1-v20130314       2\n",
       "CESM1-WACCM-r4i1p1-v20130314       2\n",
       "CNRM-CM5-r1i1p1-v20130101          2\n",
       "FGOALS-g2-r1i1p1-v2                2\n",
       "FIO-ESM-r1i1p1-v20120522           2\n",
       "FIO-ESM-r2i1p1-v20120522           2\n",
       "FIO-ESM-r3i1p1-v20120522           2\n",
       "GISS-E2-H-r1i1p1-v20120810         1\n",
       "GISS-E2-H-r1i1p2-v20120822         1\n",
       "GISS-E2-H-r1i1p3-v20120906         1\n",
       "GISS-E2-R-r1i1p1-v20130731         1\n",
       "GISS-E2-R-r1i1p2-v20121016         1\n",
       "GISS-E2-R-r1i1p3-v20121016         1\n",
       "IPSL-CM5A-LR-r1i1p1-v20120114      2\n",
       "IPSL-CM5A-LR-r2i1p1-v20120114      2\n",
       "IPSL-CM5A-LR-r3i1p1-v20111119      2\n",
       "IPSL-CM5A-LR-r4i1p1-v20120804      2\n",
       "IPSL-CM5A-MR-r1i1p1-v20111119      2\n",
       "MIROC-ESM-CHEM-r1i1p1-v20120710    1\n",
       "MIROC-ESM-r1i1p1-v20120710         1\n",
       "MIROC5-r1i1p1-v20120710            2\n",
       "MIROC5-r2i1p1-v20120710            2\n",
       "MIROC5-r3i1p1-v20120710            2\n",
       "MRI-CGCM3-r1i1p1-v20120701         2\n",
       "NorESM1-M-r1i1p1-v20120227         2\n",
       "NorESM1-ME-r1i1p1-v20120613        2\n",
       "bcc-csm1-1-m-r1i1p1-v20120910      2\n",
       "bcc-csm1-1-r1i1p1-v20120705        2\n",
       "dtype: int64"
      ]
     },
     "execution_count": 67,
     "metadata": {},
     "output_type": "execute_result"
    }
   ],
   "source": [
    "# number of Vars in each model-run-version group\n",
    "my_catlg_gp = my_catlg.groupby(['Model-RunID-Version']).count().max(axis=1)\n",
    "my_catlg_gp"
   ]
  },
  {
   "cell_type": "code",
   "execution_count": 70,
   "metadata": {},
   "outputs": [
    {
     "data": {
      "text/plain": [
       "Model-RunID-Version\n",
       "BNU-ESM-r1i1p1-v20120503         2\n",
       "CCSM4-r1i1p1-v20121031           2\n",
       "CCSM4-r2i1p1-v20120411           2\n",
       "CCSM4-r3i1p1-v20120411           2\n",
       "CCSM4-r4i1p1-v20120411           2\n",
       "CCSM4-r5i1p1-v20120411           2\n",
       "CCSM4-r6i1p1-v20120411           2\n",
       "CESM1-CAM5-r1i1p1-v20130302      2\n",
       "CESM1-CAM5-r2i1p1-v20130302      2\n",
       "CESM1-CAM5-r3i1p1-v20130302      2\n",
       "CESM1-WACCM-r2i1p1-v20130314     2\n",
       "CESM1-WACCM-r3i1p1-v20130314     2\n",
       "CESM1-WACCM-r4i1p1-v20130314     2\n",
       "CNRM-CM5-r1i1p1-v20130101        2\n",
       "FGOALS-g2-r1i1p1-v2              2\n",
       "FIO-ESM-r1i1p1-v20120522         2\n",
       "FIO-ESM-r2i1p1-v20120522         2\n",
       "FIO-ESM-r3i1p1-v20120522         2\n",
       "IPSL-CM5A-LR-r1i1p1-v20120114    2\n",
       "IPSL-CM5A-LR-r2i1p1-v20120114    2\n",
       "IPSL-CM5A-LR-r3i1p1-v20111119    2\n",
       "IPSL-CM5A-LR-r4i1p1-v20120804    2\n",
       "IPSL-CM5A-MR-r1i1p1-v20111119    2\n",
       "MIROC5-r1i1p1-v20120710          2\n",
       "MIROC5-r2i1p1-v20120710          2\n",
       "MIROC5-r3i1p1-v20120710          2\n",
       "MRI-CGCM3-r1i1p1-v20120701       2\n",
       "NorESM1-M-r1i1p1-v20120227       2\n",
       "NorESM1-ME-r1i1p1-v20120613      2\n",
       "bcc-csm1-1-m-r1i1p1-v20120910    2\n",
       "bcc-csm1-1-r1i1p1-v20120705      2\n",
       "dtype: int64"
      ]
     },
     "execution_count": 70,
     "metadata": {},
     "output_type": "execute_result"
    }
   ],
   "source": [
    "my_catlg_gp = my_catlg_gp[ my_catlg_gp == nVars ]\n",
    "my_catlg_gp"
   ]
  },
  {
   "cell_type": "code",
   "execution_count": 79,
   "metadata": {},
   "outputs": [],
   "source": [
    "complete_catlg = catlg[ catlg.isin({'Model-RunID-Version':my_catlg_gp.index})['Model-RunID-Version'] == True ]"
   ]
  },
  {
   "cell_type": "code",
   "execution_count": 80,
   "metadata": {},
   "outputs": [
    {
     "data": {
      "text/plain": [
       "(77784, 9051)"
      ]
     },
     "execution_count": 80,
     "metadata": {},
     "output_type": "execute_result"
    }
   ],
   "source": [
    "len(catlg), len(complete_catlg)"
   ]
  },
  {
   "cell_type": "code",
   "execution_count": null,
   "metadata": {},
   "outputs": [],
   "source": []
  }
 ],
 "metadata": {
  "kernelspec": {
   "display_name": "Python 3",
   "language": "python",
   "name": "python3"
  },
  "language_info": {
   "codemirror_mode": {
    "name": "ipython",
    "version": 3
   },
   "file_extension": ".py",
   "mimetype": "text/x-python",
   "name": "python",
   "nbconvert_exporter": "python",
   "pygments_lexer": "ipython3",
   "version": "3.6.8"
  }
 },
 "nbformat": 4,
 "nbformat_minor": 2
}
